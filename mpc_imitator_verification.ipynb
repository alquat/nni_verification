{
 "cells": [
  {
   "cell_type": "code",
   "execution_count": 1,
   "metadata": {},
   "outputs": [],
   "source": [
    "import pandas as pd"
   ]
  },
  {
   "cell_type": "code",
   "execution_count": 2,
   "metadata": {},
   "outputs": [],
   "source": [
    "expert_agent = pd.read_csv(\"data/data_generation_mpc_110_190_6_all.csv\")"
   ]
  },
  {
   "cell_type": "code",
   "execution_count": 3,
   "metadata": {},
   "outputs": [],
   "source": [
    "import joblib\n",
    "\n",
    "# Load X_scaler\n",
    "X_scaler = joblib.load('data/scalers/X_scaler.pkl')\n",
    "\n",
    "# Load y_scaler\n",
    "y_scaler = joblib.load('data/scalers/y_scaler.pkl')\n"
   ]
  },
  {
   "cell_type": "code",
   "execution_count": 4,
   "metadata": {},
   "outputs": [],
   "source": [
    "import torch\n",
    "import torch.nn as nn"
   ]
  },
  {
   "cell_type": "code",
   "execution_count": 5,
   "metadata": {},
   "outputs": [],
   "source": [
    "class LitNeuralNet(nn.Module):\n",
    "    def __init__(self):\n",
    "        super().__init__()\n",
    "        self.fc1 = nn.Linear(2, 50)\n",
    "        self.fc2 = nn.Linear(50, 10)\n",
    "        self.fc3 = nn.Linear(10, 2)\n",
    "        self.train_loss = []\n",
    "        self.val_loss = []\n",
    "\n",
    "    def forward(self, x):\n",
    "        x = torch.relu(self.fc1(x))\n",
    "        x = torch.relu(self.fc2(x))\n",
    "        x = self.fc3(x)\n",
    "        return x"
   ]
  },
  {
   "cell_type": "code",
   "execution_count": 6,
   "metadata": {},
   "outputs": [
    {
     "data": {
      "text/plain": [
       "<All keys matched successfully>"
      ]
     },
     "execution_count": 6,
     "metadata": {},
     "output_type": "execute_result"
    }
   ],
   "source": [
    "# Load the model state dictionary\n",
    "model_state_dict = torch.load('data/model/trained_model.pth')\n",
    "\n",
    "# Create an instance of the model\n",
    "model = LitNeuralNet()\n",
    "\n",
    "# Load the state dictionary into the model\n",
    "model.load_state_dict(model_state_dict)\n"
   ]
  },
  {
   "cell_type": "code",
   "execution_count": 7,
   "metadata": {},
   "outputs": [],
   "source": [
    "def test_model_with_custom_inputs(inflow, height, X_scaler, y_scaler, model):\n",
    "    custom_inputs =  pd.DataFrame({\"inflow\": [inflow], \n",
    "                  \"height\": [height]})\n",
    "    custom_inputs_scaled = X_scaler.transform(custom_inputs)\n",
    "    custom_inputs_scaled_tensor = torch.tensor(custom_inputs_scaled, dtype=torch.float32)\n",
    "    with torch.no_grad():\n",
    "        output = model(custom_inputs_scaled_tensor)\n",
    "        output_unscaled = y_scaler.inverse_transform(output)\n",
    "        return custom_inputs_scaled_tensor , output_unscaled"
   ]
  },
  {
   "cell_type": "code",
   "execution_count": 13,
   "metadata": {},
   "outputs": [
    {
     "name": "stdout",
     "output_type": "stream",
     "text": [
      "[[953.68628747 771.97295517]]\n"
     ]
    }
   ],
   "source": [
    "pumps_speeds = test_model_with_custom_inputs(100, 1.6, X_scaler, y_scaler, model)[1]\n",
    "print(pumps_speeds)"
   ]
  },
  {
   "cell_type": "code",
   "execution_count": 9,
   "metadata": {},
   "outputs": [],
   "source": [
    "import torch\n",
    "import torch.nn as nn\n",
    "import torch.nn.functional as F\n",
    "import torchvision.datasets as datasets\n",
    "import torchvision.transforms as transforms"
   ]
  },
  {
   "cell_type": "code",
   "execution_count": 10,
   "metadata": {},
   "outputs": [
    {
     "name": "stdout",
     "output_type": "stream",
     "text": [
      "No CUDA runtime is found, using CUDA_HOME='/usr'\n"
     ]
    }
   ],
   "source": [
    "from auto_LiRPA import BoundedModule, BoundedTensor\n",
    "from auto_LiRPA.perturbations import *"
   ]
  },
  {
   "cell_type": "code",
   "execution_count": 11,
   "metadata": {},
   "outputs": [],
   "source": [
    "custom_inputs_scaled = X_scaler.transform(expert_agent[[\"inflow\", \"height\"]])\n",
    "X = torch.tensor(custom_inputs_scaled, dtype=torch.float32)"
   ]
  },
  {
   "cell_type": "code",
   "execution_count": 33,
   "metadata": {},
   "outputs": [
    {
     "name": "stdout",
     "output_type": "stream",
     "text": [
      "Bounding method: backward (CROWN, DeepPoly)\n"
     ]
    },
    {
     "data": {
      "text/html": [
       "<div>\n",
       "<style scoped>\n",
       "    .dataframe tbody tr th:only-of-type {\n",
       "        vertical-align: middle;\n",
       "    }\n",
       "\n",
       "    .dataframe tbody tr th {\n",
       "        vertical-align: top;\n",
       "    }\n",
       "\n",
       "    .dataframe thead th {\n",
       "        text-align: right;\n",
       "    }\n",
       "</style>\n",
       "<table border=\"1\" class=\"dataframe\">\n",
       "  <thead>\n",
       "    <tr style=\"text-align: right;\">\n",
       "      <th></th>\n",
       "      <th>pump label</th>\n",
       "      <th>pump_rpm estimated</th>\n",
       "      <th>lower_bound</th>\n",
       "      <th>upper_bound</th>\n",
       "    </tr>\n",
       "  </thead>\n",
       "  <tbody>\n",
       "    <tr>\n",
       "      <th>0</th>\n",
       "      <td>pump1</td>\n",
       "      <td>953.686287</td>\n",
       "      <td>906.687744</td>\n",
       "      <td>998.488708</td>\n",
       "    </tr>\n",
       "    <tr>\n",
       "      <th>1</th>\n",
       "      <td>pump2</td>\n",
       "      <td>771.972955</td>\n",
       "      <td>717.251709</td>\n",
       "      <td>824.163513</td>\n",
       "    </tr>\n",
       "  </tbody>\n",
       "</table>\n",
       "</div>"
      ],
      "text/plain": [
       "  pump label  pump_rpm estimated  lower_bound  upper_bound\n",
       "0      pump1          953.686287   906.687744   998.488708\n",
       "1      pump2          771.972955   717.251709   824.163513"
      ]
     },
     "execution_count": 33,
     "metadata": {},
     "output_type": "execute_result"
    }
   ],
   "source": [
    "# Step 4: Apply Auto_LiRPA\n",
    "X0, yhat = test_model_with_custom_inputs(100, 1.6, X_scaler, y_scaler, model)\n",
    "epsilon = 0.1\n",
    "# Create perturbation\n",
    "perturbation = PerturbationLpNorm(norm=np.inf, eps=epsilon)\n",
    "# Convert the model to a Bounded Module\n",
    "bounded_model = BoundedModule(model, torch.empty_like(X), bound_opts={\"forward_mode\": \"interval\"})\n",
    "#Create a BoundedTensor from the input and perturbation\n",
    "bounded_input = BoundedTensor(X0, perturbation)\n",
    "#Compute bounds using the compute_bounds() method.\n",
    "print('Bounding method: backward (CROWN, DeepPoly)')\n",
    "with torch.no_grad():  # If gradients of the bounds are not needed, we can use no_grad to save memory.\n",
    "  lb, ub = bounded_model.compute_bounds(x=(bounded_input,), method='CROWN')\n",
    "\n",
    "def print_bounds(lb, ub, y_hat, y_scaler):\n",
    "    lb = lb.detach().cpu().numpy()\n",
    "    ub = ub.detach().cpu().numpy()\n",
    "    lb = y_scaler.inverse_transform(lb)\n",
    "    ub = y_scaler.inverse_transform(ub)\n",
    "    dataset = []\n",
    "    pump_labels = [\"pump1\", \"pump2\"]\n",
    "\n",
    "    for j in range(2):\n",
    "        lower_bound = lb[0][j]\n",
    "        upper_bound = ub[0][j]\n",
    "        row = {\n",
    "            \"pump label\": pump_labels[j],\n",
    "            \"pump_rpm estimated\": y_hat[0][j],\n",
    "            \"lower_bound\": lower_bound,\n",
    "            \"upper_bound\": upper_bound\n",
    "        }\n",
    "        dataset.append(row)\n",
    "\n",
    "    return pd.DataFrame(dataset)\n",
    "        \n",
    "# Auxillary function to print bounds.\n",
    "print_bounds(lb, ub, yhat, y_scaler)"
   ]
  }
 ],
 "metadata": {
  "kernelspec": {
   "display_name": "verification",
   "language": "python",
   "name": "python3"
  },
  "language_info": {
   "codemirror_mode": {
    "name": "ipython",
    "version": 3
   },
   "file_extension": ".py",
   "mimetype": "text/x-python",
   "name": "python",
   "nbconvert_exporter": "python",
   "pygments_lexer": "ipython3",
   "version": "3.10.13"
  }
 },
 "nbformat": 4,
 "nbformat_minor": 2
}
