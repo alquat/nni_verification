{
 "cells": [
  {
   "cell_type": "code",
   "execution_count": 23,
   "metadata": {},
   "outputs": [],
   "source": [
    "import pandas as pd \n",
    "import numpy as np "
   ]
  },
  {
   "cell_type": "code",
   "execution_count": 3,
   "metadata": {},
   "outputs": [],
   "source": [
    "expert_agent = pd.read_csv(\"data/data_generation_mpc_110_190_6_all.csv\")"
   ]
  },
  {
   "cell_type": "markdown",
   "metadata": {},
   "source": [
    "### Split the data in Features and Targets and Scale using Sklearn"
   ]
  },
  {
   "cell_type": "code",
   "execution_count": 5,
   "metadata": {},
   "outputs": [],
   "source": [
    "from sklearn import preprocessing\n",
    "\n",
    "X = expert_agent[[\"inflow\", \"height\"]]\n",
    "X_scaler = preprocessing.StandardScaler().fit(X)\n",
    "X_scaled = X_scaler.transform(X)\n",
    "\n",
    "y = expert_agent[[\"speed1_rpm\", \"speed4_rpm\"]]\n",
    "y_scaler = preprocessing.StandardScaler().fit(y)\n",
    "y_scaled = y_scaler.transform(y)\n"
   ]
  },
  {
   "cell_type": "markdown",
   "metadata": {},
   "source": [
    "### Transform arrays into Torch DataLoader"
   ]
  },
  {
   "cell_type": "code",
   "execution_count": 6,
   "metadata": {},
   "outputs": [],
   "source": [
    "from torch.utils.data import DataLoader, TensorDataset\n",
    "from torch.utils.data import random_split\n",
    "import torch\n",
    "\n",
    "seed = torch.Generator().manual_seed(42)\n",
    "\n",
    "torch_dataset = TensorDataset(torch.tensor(X_scaled, dtype=torch.float32), \n",
    "                              torch.tensor(y_scaled, dtype=torch.float32))\n",
    "\n",
    "total_size = len(torch_dataset)\n",
    "train_size = int(0.7 * total_size)  # 70% of data for training\n",
    "valid_size = int(0.15 * total_size)  # 15% of data for validation\n",
    "test_size = total_size - train_size - valid_size  # Remaining 15% for testing\n",
    "\n",
    "train_dataset, valid_dataset, test_dataset = random_split(torch_dataset, [train_size, valid_size, test_size], generator=seed)\n",
    "\n",
    "# Create Data Loaders for each set\n",
    "train_loader = DataLoader(train_dataset, batch_size=64, shuffle=True)\n",
    "valid_loader = DataLoader(valid_dataset, batch_size=64, shuffle=False)\n",
    "test_loader = DataLoader(test_dataset, batch_size=64, shuffle=False)"
   ]
  },
  {
   "cell_type": "markdown",
   "metadata": {},
   "source": [
    "### Define the NN Skeleton in Pytorch"
   ]
  },
  {
   "cell_type": "code",
   "execution_count": 8,
   "metadata": {},
   "outputs": [],
   "source": [
    "import pytorch_lightning as pl\n",
    "\n",
    "\n",
    "import torch\n",
    "import torch.nn as nn\n",
    "import torch.optim as optim\n",
    "\n",
    "# Define the dataset (assuming X_scaled, y_scaled are numpy arrays)\n",
    "train_dataset = TensorDataset(torch.tensor(X_scaled, dtype=torch.float32), \n",
    "                              torch.tensor(y_scaled, dtype=torch.float32))\n",
    "\n",
    "# Define the Neural Network using PyTorch Lightning ==> subclassing\n",
    "class LitNeuralNet(pl.LightningModule):\n",
    "    def __init__(self):\n",
    "        super().__init__()\n",
    "        self.fc1 = nn.Linear(2, 50)\n",
    "        self.fc2 = nn.Linear(50, 10)\n",
    "        self.fc3 = nn.Linear(10, 2)\n",
    "        self.train_loss = []\n",
    "        self.val_loss = []\n",
    "\n",
    "    def forward(self, x):\n",
    "        x = torch.relu(self.fc1(x))\n",
    "        x = torch.relu(self.fc2(x))\n",
    "        x = self.fc3(x)\n",
    "        return x\n",
    "\n",
    "    def training_step(self, batch, batch_idx):\n",
    "        x, y = batch\n",
    "        y_hat = self(x)\n",
    "        train_loss = nn.functional.mse_loss(y_hat, y)\n",
    "        self.train_loss.append(train_loss.cpu().item())\n",
    "        self.log('train_loss', train_loss, on_epoch=True, prog_bar=True)\n",
    "        return train_loss\n",
    "    \n",
    "    def validation_step(self, batch, batch_idx):\n",
    "        x, y = batch\n",
    "        y_hat = self(x)\n",
    "        val_loss = nn.functional.mse_loss(y_hat, y)\n",
    "        self.val_loss.append(val_loss.cpu().item())\n",
    "        self.log('val_loss', val_loss, on_epoch=True, prog_bar=True)\n",
    "        return val_loss\n",
    "\n",
    "    def test_step(self, batch, batch_idx):\n",
    "        x, y = batch\n",
    "        y_hat = self(x)\n",
    "        test_loss = nn.functional.mse_loss(y_hat, y)\n",
    "        self.log('test_loss', test_loss, on_epoch=True)\n",
    "        return test_loss\n",
    "\n",
    "    def configure_optimizers(self):\n",
    "        # Add L2 regularization with weight_decay\n",
    "        optimizer = optim.Adam(self.parameters(), lr=1e-3, weight_decay=1e-5)\n",
    "        return optimizer"
   ]
  },
  {
   "cell_type": "markdown",
   "metadata": {},
   "source": [
    "### Initialize the NN class"
   ]
  },
  {
   "cell_type": "code",
   "execution_count": 9,
   "metadata": {},
   "outputs": [],
   "source": [
    "model = LitNeuralNet()"
   ]
  },
  {
   "cell_type": "markdown",
   "metadata": {},
   "source": [
    "### Create Model Early Stopping to avoid Overfitting"
   ]
  },
  {
   "cell_type": "code",
   "execution_count": 16,
   "metadata": {},
   "outputs": [],
   "source": [
    "import torch.optim as optim\n",
    "import torch.nn.functional as F"
   ]
  },
  {
   "cell_type": "code",
   "execution_count": 17,
   "metadata": {},
   "outputs": [
    {
     "name": "stdout",
     "output_type": "stream",
     "text": [
      "Epoch 0, Validation Loss: 0.020886796789484158\n",
      "Epoch 1, Validation Loss: 0.011192267204845143\n",
      "Epoch 2, Validation Loss: 0.006354833113390111\n",
      "Epoch 3, Validation Loss: 0.002702408306480896\n",
      "Epoch 4, Validation Loss: 0.001847554874914368\n",
      "Epoch 5, Validation Loss: 0.0013150296139252944\n",
      "Epoch 6, Validation Loss: 0.0012681312605573405\n",
      "Epoch 7, Validation Loss: 0.0010614527455125485\n",
      "Epoch 8, Validation Loss: 0.0010310986912020691\n",
      "Epoch 9, Validation Loss: 0.0009683445584209215\n"
     ]
    }
   ],
   "source": [
    "model = LitNeuralNet()\n",
    "\n",
    "# Define the optimizer\n",
    "optimizer = optim.Adam(model.parameters(), lr=1e-3, weight_decay=1e-5)\n",
    "\n",
    "# Training loop\n",
    "for epoch in range(10):  # Set num_epochs to your desired number\n",
    "    model.train()\n",
    "    for x_batch, y_batch in train_loader:\n",
    "        optimizer.zero_grad()\n",
    "        y_pred = model(x_batch)\n",
    "        loss = F.mse_loss(y_pred, y_batch)\n",
    "        loss.backward()\n",
    "        optimizer.step()\n",
    "\n",
    "    # Validation loop\n",
    "    model.eval()\n",
    "    with torch.no_grad():\n",
    "        val_loss = 0\n",
    "        for x_batch, y_batch in valid_loader:\n",
    "            y_pred = model(x_batch)\n",
    "            val_loss += F.mse_loss(y_pred, y_batch).item()\n",
    "        val_loss /= len(valid_loader)\n",
    "        print(f\"Epoch {epoch}, Validation Loss: {val_loss}\")\n"
   ]
  },
  {
   "cell_type": "code",
   "execution_count": 18,
   "metadata": {},
   "outputs": [
    {
     "name": "stdout",
     "output_type": "stream",
     "text": [
      "Test Loss: 0.0010382567363839987\n"
     ]
    }
   ],
   "source": [
    "model.eval()\n",
    "with torch.no_grad():\n",
    "    test_loss = 0\n",
    "    for x_batch, y_batch in test_loader:\n",
    "        y_pred = model(x_batch)\n",
    "        test_loss += F.mse_loss(y_pred, y_batch).item()\n",
    "    test_loss /= len(test_loader)\n",
    "    print(f\"Test Loss: {test_loss}\")"
   ]
  },
  {
   "cell_type": "markdown",
   "metadata": {},
   "source": [
    "#### Save Scaler "
   ]
  },
  {
   "cell_type": "code",
   "execution_count": 78,
   "metadata": {},
   "outputs": [
    {
     "data": {
      "text/plain": [
       "['data/scalers/y_scaler.pkl']"
      ]
     },
     "execution_count": 78,
     "metadata": {},
     "output_type": "execute_result"
    }
   ],
   "source": [
    "import joblib\n",
    "\n",
    "# Save X_scaler\n",
    "joblib.dump(X_scaler, 'data/scalers/X_scaler.pkl')\n",
    "\n",
    "# Save y_scaler\n",
    "joblib.dump(y_scaler, 'data/scalers/y_scaler.pkl')\n"
   ]
  },
  {
   "cell_type": "markdown",
   "metadata": {},
   "source": [
    "#### Save trained model"
   ]
  },
  {
   "cell_type": "code",
   "execution_count": 79,
   "metadata": {},
   "outputs": [],
   "source": [
    "torch.save(model.state_dict(), 'data/model/trained_model.pth')"
   ]
  }
 ],
 "metadata": {
  "kernelspec": {
   "display_name": "verification",
   "language": "python",
   "name": "python3"
  },
  "language_info": {
   "codemirror_mode": {
    "name": "ipython",
    "version": 3
   },
   "file_extension": ".py",
   "mimetype": "text/x-python",
   "name": "python",
   "nbconvert_exporter": "python",
   "pygments_lexer": "ipython3",
   "version": "3.10.13"
  }
 },
 "nbformat": 4,
 "nbformat_minor": 2
}
